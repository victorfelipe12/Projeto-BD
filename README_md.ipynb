{
  "nbformat": 4,
  "nbformat_minor": 0,
  "metadata": {
    "colab": {
      "provenance": [],
      "authorship_tag": "ABX9TyOgkk9Xt3TaIbvgln3gk+yU",
      "include_colab_link": true
    },
    "kernelspec": {
      "name": "python3",
      "display_name": "Python 3"
    },
    "language_info": {
      "name": "python"
    }
  },
  "cells": [
    {
      "cell_type": "markdown",
      "metadata": {
        "id": "view-in-github",
        "colab_type": "text"
      },
      "source": [
        "<a href=\"https://colab.research.google.com/github/victorfelipe12/Projeto-BD/blob/main/README_md.ipynb\" target=\"_parent\"><img src=\"https://colab.research.google.com/assets/colab-badge.svg\" alt=\"Open In Colab\"/></a>"
      ]
    },
    {
      "cell_type": "code",
      "execution_count": 1,
      "metadata": {
        "colab": {
          "base_uri": "https://localhost:8080/",
          "height": 126
        },
        "collapsed": true,
        "id": "rRzO37aL7OmR",
        "outputId": "2647f614-cc90-4b9d-a3e5-b1ec186cc20a"
      },
      "outputs": [
        {
          "output_type": "error",
          "ename": "SyntaxError",
          "evalue": "invalid syntax (ipython-input-112004581.py, line 5)",
          "traceback": [
            "\u001b[0;36m  File \u001b[0;32m\"/tmp/ipython-input-112004581.py\"\u001b[0;36m, line \u001b[0;32m5\u001b[0m\n\u001b[0;31m    Este notebook realiza a análise dos casos de dengue notificados pelo **SUS** no estado de São Paulo em 2024, integrando-os com dados meteorológicos do **INMET**. O objetivo é explorar a relação entre a incidência da dengue e a precipitação, de forma a gerar insights que podem servir como base para modelos de previsão de epicentros.\u001b[0m\n\u001b[0m         ^\u001b[0m\n\u001b[0;31mSyntaxError\u001b[0m\u001b[0;31m:\u001b[0m invalid syntax\n"
          ]
        }
      ],
      "source": [
        "# Análise de Casos de Dengue x Precipitação (INMET) - Notebook Corrigido\n",
        "\n",
        "## Descrição\n",
        "\n",
        "Este notebook realiza a análise dos casos de dengue notificados pelo **SUS** no estado de São Paulo em 2024, integrando-os com dados meteorológicos do **INMET**. O objetivo é explorar a relação entre a incidência da dengue e a precipitação, de forma a gerar insights que podem servir como base para modelos de previsão de epicentros.\n",
        "\n",
        "O notebook foi estruturado para processar grandes volumes de dados utilizando **Dask** e integrar dados menores (INMET) com **Pandas**, permitindo agregações mensais e visualizações.\n",
        "\n",
        "---\n",
        "\n",
        "## Estrutura do Notebook\n",
        "\n",
        "### 1. Instalação e Importação de Bibliotecas\n",
        "- Bibliotecas utilizadas: `dask`, `pandas`, `numpy`, `matplotlib`, `seaborn`.\n",
        "- Configuração de estilo gráfico com `seaborn`.\n",
        "\n",
        "### 2. Leitura dos Dados\n",
        "- Casos de dengue: CSV grande, lido com **Dask**.\n",
        "- Dados do INMET: XLSX lido com **Pandas** e convertido para **Dask** para integração.\n",
        "\n",
        "### 3. Preparação dos Dados\n",
        "- Conversão das colunas de data (`DT_NOTIFIC` e `Data`) para tipo datetime.\n",
        "- Identificação automática da coluna de precipitação e conversão para tipo numérico.\n",
        "- Ajustes de nomes de colunas e padronização de formatos.\n",
        "\n",
        "### 4. Agregação Mensal\n",
        "- Casos de dengue agregados por mês (`size()`).\n",
        "- Precipitação mensal agregada por mês (`sum()`).\n",
        "- Merge dos dois conjuntos de dados por período (`PERIODO`).\n",
        "\n",
        "### 5. Visualização\n",
        "- Gráfico de dispersão: casos de dengue x precipitação mensal.\n",
        "- Linha de regressão linear adicionada para avaliar tendência.\n",
        "\n",
        "### 6. Análise Estatística\n",
        "- Cálculo da **correlação de Pearson** entre casos e precipitação.\n",
        "- Cálculo da **correlação de Spearman** para capturar relações monotônicas.\n",
        "- Impressão dos coeficientes e valores de significância (p-value).\n",
        "\n",
        "---\n",
        "\n",
        "## Observações\n",
        "- **Dask** foi usado para manipular grandes volumes de dados de dengue sem sobrecarregar a memória.\n",
        "- **Pandas** foi usado para manipular o dataset do INMET, menor e mais simples.\n",
        "- O notebook permite fácil extensão para análises adicionais, como:\n",
        "  - Inclusão de outras variáveis meteorológicas (temperatura, umidade, vento).\n",
        "  - Agregação por faixa etária, sexo ou região de residência.\n",
        "  - Preparação da base para modelos de **Machine Learning** de previsão de epicentros.\n",
        "\n",
        "---\n",
        "\n",
        "## Requisitos\n",
        "- Python 3.9+\n",
        "- Bibliotecas: `dask`, `pandas`, `numpy`, `matplotlib`, `seaborn`, `openpyxl`\n",
        "\n",
        "Instalação recomendada:\n",
        "\n",
        "```bash\n",
        "pip install dask[complete] pandas numpy matplotlib seaborn openpyxl\n"
      ]
    }
  ]
}